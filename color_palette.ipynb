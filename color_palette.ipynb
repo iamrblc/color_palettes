{
 "cells": [
  {
   "cell_type": "code",
   "execution_count": 4,
   "metadata": {},
   "outputs": [],
   "source": [
    "import cv2, numpy as np\n",
    "from sklearn.cluster import KMeans"
   ]
  },
  {
   "cell_type": "code",
   "execution_count": 2,
   "metadata": {},
   "outputs": [],
   "source": [
    "def visualize_colors(cluster, centroids):\n",
    "    # Get the number of different clusters, create histogram, and normalize\n",
    "    labels = np.arange(0, len(np.unique(cluster.labels_)) + 1)\n",
    "    (hist, _) = np.histogram(cluster.labels_, bins=labels)\n",
    "    hist = hist.astype(\"float\")\n",
    "    hist /= hist.sum()\n",
    "\n",
    "    # Create square palette and iterate through each cluster's color and percentage\n",
    "    palette = np.zeros((100, 100, 3), dtype=np.uint8)\n",
    "    colors = sorted([(percent, color) for (percent, color) in zip(hist, centroids)], reverse=True)\n",
    "    start = 0\n",
    "    for i, (percent, color) in enumerate(colors):\n",
    "        end = start + (percent * 100)\n",
    "        cv2.rectangle(palette, (0, int(start)), (100, int(end)), color.astype(\"uint8\").tolist(), -1)\n",
    "        start = end\n",
    "    return palette\n"
   ]
  },
  {
   "cell_type": "code",
   "execution_count": 3,
   "metadata": {},
   "outputs": [
    {
     "name": "stderr",
     "output_type": "stream",
     "text": [
      "/Users/rblc/.pyenv/versions/3.10.6/envs/lewagon/lib/python3.10/site-packages/sklearn/cluster/_kmeans.py:870: FutureWarning: The default value of `n_init` will change from 10 to 'auto' in 1.4. Set the value of `n_init` explicitly to suppress the warning\n",
      "  warnings.warn(\n"
     ]
    },
    {
     "data": {
      "text/plain": [
       "True"
      ]
     },
     "execution_count": 3,
     "metadata": {},
     "output_type": "execute_result"
    }
   ],
   "source": [
    "# Load image and convert to a list of pixels\n",
    "image = cv2.imread('hello_garlic.png')\n",
    "image = cv2.cvtColor(image, cv2.COLOR_BGR2RGB)\n",
    "reshape = image.reshape((image.shape[0] * image.shape[1], 3))\n",
    "\n",
    "# Find and display most dominant colors\n",
    "cluster = KMeans(n_clusters=5).fit(reshape)\n",
    "\n",
    "visualize = visualize_colors(cluster, cluster.cluster_centers_)\n",
    "visualize = cv2.cvtColor(visualize, cv2.COLOR_RGB2BGR)\n",
    "cv2.imwrite('color_palette.png', visualize)"
   ]
  }
 ],
 "metadata": {
  "kernelspec": {
   "display_name": "lewagon",
   "language": "python",
   "name": "python3"
  },
  "language_info": {
   "codemirror_mode": {
    "name": "ipython",
    "version": 3
   },
   "file_extension": ".py",
   "mimetype": "text/x-python",
   "name": "python",
   "nbconvert_exporter": "python",
   "pygments_lexer": "ipython3",
   "version": "3.10.6"
  },
  "orig_nbformat": 4
 },
 "nbformat": 4,
 "nbformat_minor": 2
}
